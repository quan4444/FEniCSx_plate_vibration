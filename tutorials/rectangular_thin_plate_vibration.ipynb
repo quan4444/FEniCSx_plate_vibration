{
 "cells": [
  {
   "cell_type": "markdown",
   "id": "829962a4",
   "metadata": {},
   "source": [
    "# Free vibrations of a rectangular thin plate"
   ]
  },
  {
   "cell_type": "markdown",
   "id": "49c9000d",
   "metadata": {},
   "source": [
    "Problem: A thin, homogeneous, isotropic, rectangular plate is clamped on all 4 sides. The plate is set into free vibration by an initial disturbance. Here, we want to study the natural frequencies and the normal modes of the plate. \n",
    "\n",
    "_Note_: The natural frequencies and normal modes are the eigenvalues and eigenvectors obtained after solving the transcendental eigenvalue problem for the stiffness and mass matrices."
   ]
  },
  {
   "cell_type": "markdown",
   "id": "f7966e18",
   "metadata": {},
   "source": [
    "### Import packages"
   ]
  },
  {
   "cell_type": "code",
   "execution_count": 1,
   "id": "5049709c",
   "metadata": {},
   "outputs": [],
   "source": [
    "# Imports\n",
    "import numpy as np\n",
    "import ufl\n",
    "import sys, slepc4py\n",
    "slepc4py.init(sys.argv)\n",
    "\n",
    "from dolfinx import fem\n",
    "from dolfinx.fem import (Constant, dirichletbc, Function, functionspace,\n",
    "        locate_dofs_topological)\n",
    "from dolfinx.mesh import (create_box, CellType,\n",
    "        locate_entities_boundary)\n",
    "from dolfinx.io import XDMFFile\n",
    "from dolfinx.fem.petsc import assemble_matrix\n",
    "from mpi4py import MPI\n",
    "from slepc4py import SLEPc"
   ]
  },
  {
   "cell_type": "markdown",
   "id": "04e92b45",
   "metadata": {},
   "source": [
    "### Mesh the thin rectangular plate"
   ]
  },
  {
   "cell_type": "code",
   "execution_count": 2,
   "id": "602907aa",
   "metadata": {},
   "outputs": [],
   "source": [
    "# Define computational domain\n",
    "L = np.array([1, 1.2, 0.02])\n",
    "Nx=100\n",
    "N = [Nx, int(L[1]/L[0]*Nx)+1, int(L[2]/L[0]*Nx)+1]\n",
    "mesh = create_box(MPI.COMM_WORLD, [np.array([0,0,0]), L], N,\n",
    "        cell_type=CellType.hexahedron)"
   ]
  },
  {
   "cell_type": "markdown",
   "id": "34d2572a",
   "metadata": {},
   "source": [
    "### Material parameters for the plate"
   ]
  },
  {
   "cell_type": "code",
   "execution_count": 3,
   "id": "1b6b9de8",
   "metadata": {},
   "outputs": [],
   "source": [
    "# Material constants\n",
    "E, nu = (72e9), (0.3)  \n",
    "rho = (2800)\n",
    "mu = Constant(mesh, E/2./(1+nu))\n",
    "lambda_ = Constant(mesh, E*nu/(1+nu)/(1-2*nu))"
   ]
  },
  {
   "cell_type": "markdown",
   "id": "71d0d829",
   "metadata": {},
   "source": [
    "### Linear elastic constitutive relations"
   ]
  },
  {
   "cell_type": "code",
   "execution_count": 4,
   "id": "ec7ba9c7",
   "metadata": {},
   "outputs": [],
   "source": [
    "def epsilon(u):\n",
    "    return ufl.sym(ufl.grad(u))\n",
    "def sigma(u):\n",
    "    return 2*mu*epsilon(u) + lambda_ * ufl.operators.tr(epsilon(u)) * ufl.Identity(mesh.geometry.dim)"
   ]
  },
  {
   "cell_type": "markdown",
   "id": "6b13b78e",
   "metadata": {},
   "source": [
    "### Define function space, trial and test functions"
   ]
  },
  {
   "cell_type": "code",
   "execution_count": 5,
   "id": "bcaf8879",
   "metadata": {},
   "outputs": [],
   "source": [
    "V = functionspace(mesh, (\"Lagrange\", 1,(mesh.geometry.dim,)))\n",
    "u = ufl.TrialFunction(V)\n",
    "v = ufl.TestFunction(V)"
   ]
  },
  {
   "cell_type": "markdown",
   "id": "c291e077",
   "metadata": {},
   "source": [
    "### Boundary conditions"
   ]
  },
  {
   "cell_type": "code",
   "execution_count": 6,
   "id": "e239c229",
   "metadata": {},
   "outputs": [],
   "source": [
    "# define the boundaries\n",
    "def left_boundary(x):\n",
    "    return np.isclose(x[0],0)\n",
    "def right_boundary(x):\n",
    "    return np.isclose(x[0],L[0])\n",
    "def bot_boundary(x):\n",
    "    return np.isclose(x[1],0)\n",
    "def top_boundary(x):\n",
    "    return np.isclose(x[1],L[1])\n",
    "\n",
    "# find the facets on the boundaries\n",
    "fdim = mesh.topology.dim - 1\n",
    "left_facets = locate_entities_boundary(mesh, fdim, left_boundary)\n",
    "right_facets = locate_entities_boundary(mesh, fdim, right_boundary)\n",
    "bot_facets = locate_entities_boundary(mesh, fdim, bot_boundary)\n",
    "top_facets = locate_entities_boundary(mesh, fdim, top_boundary)\n",
    "\n",
    "# apply fixed (clamped) Dirichlet boundary conditions to all facets\n",
    "u_D = Function(V)\n",
    "u_D.interpolate(lambda x: np.zeros_like(x))\n",
    "left_bc = dirichletbc(u_D, locate_dofs_topological(V, fdim, left_facets))\n",
    "right_bc = dirichletbc(u_D, locate_dofs_topological(V, fdim, right_facets))\n",
    "bot_bc = dirichletbc(u_D, locate_dofs_topological(V, fdim, bot_facets))\n",
    "top_bc = dirichletbc(u_D, locate_dofs_topological(V, fdim, top_facets))\n",
    "bcs=[left_bc,right_bc,bot_bc,top_bc]"
   ]
  },
  {
   "cell_type": "markdown",
   "id": "10f966a5",
   "metadata": {},
   "source": [
    "### Variational form of the stiffness and mass matrices"
   ]
  },
  {
   "cell_type": "code",
   "execution_count": 7,
   "id": "5d03139f",
   "metadata": {},
   "outputs": [],
   "source": [
    "k_form = ufl.inner(sigma(v),epsilon(u))*ufl.dx\n",
    "m_form = rho*ufl.inner(u,v)*ufl.dx"
   ]
  },
  {
   "cell_type": "markdown",
   "id": "f9806733",
   "metadata": {},
   "source": [
    "### Assemble the stiffness and mass matrices"
   ]
  },
  {
   "cell_type": "code",
   "execution_count": null,
   "id": "210c47b8",
   "metadata": {},
   "outputs": [],
   "source": [
    "# Using the \"diagonal\" kwarg ensures that Dirichlet BC modes will not be among\n",
    "# the lowest-frequency modes of the beam. \n",
    "K = assemble_matrix(fem.form(k_form), bcs=bcs, diagonal=62831)\n",
    "M = assemble_matrix(fem.form(m_form), bcs=bcs, diagonal=1/62831)\n",
    "K.assemble()\n",
    "M.assemble()"
   ]
  },
  {
   "cell_type": "markdown",
   "id": "3507b7ce",
   "metadata": {},
   "source": [
    "### Create and configure the eigenvalue solver"
   ]
  },
  {
   "cell_type": "code",
   "execution_count": 11,
   "id": "1c90f0b4",
   "metadata": {},
   "outputs": [],
   "source": [
    "N_eig = 6 # number of eigenvalues to compute\n",
    "eigensolver = SLEPc.EPS().create(MPI.COMM_WORLD) # initialize eigen problem solver\n",
    "eigensolver.setDimensions(N_eig) # sets the number of eigenvalues to compute\n",
    "eigensolver.setProblemType(SLEPc.EPS.ProblemType.GHEP) # set problem type as the Generalized Hermitian Eigenvalue Problem\n",
    "st = SLEPc.ST().create(MPI.COMM_WORLD) # create a spectral transformation object to improve convergence\n",
    "st.setType(SLEPc.ST.Type.SINVERT) # spectral transformation type: shift and invert\n",
    "st.setShift(0.1) # set the shift value for the spectral transformation\n",
    "st.setFromOptions() # allow user to pass additional settings via command line\n",
    "eigensolver.setST(st)\n",
    "eigensolver.setOperators(K, M)\n",
    "eigensolver.setFromOptions()"
   ]
  },
  {
   "cell_type": "markdown",
   "id": "5dc3e194",
   "metadata": {},
   "source": [
    "### Compute the eigenvalue-eigenvector pairs"
   ]
  },
  {
   "cell_type": "code",
   "execution_count": 12,
   "id": "075e7efd",
   "metadata": {},
   "outputs": [
    {
     "name": "stdout",
     "output_type": "stream",
     "text": [
      "Number of converged eigenpairs 6\n",
      "Mode 0: 156.8248030848762 Hz\n",
      "Mode 1: 282.5499553187332 Hz\n",
      "Mode 2: 352.7002090459315 Hz\n",
      "Mode 3: 464.98129596969886 Hz\n",
      "Mode 4: 485.9148879625408 Hz\n",
      "Mode 5: 651.79825124868 Hz\n"
     ]
    }
   ],
   "source": [
    "eigensolver.solve()\n",
    "evs = eigensolver.getConverged()\n",
    "vr, vi = K.getVecs()\n",
    "u_output = Function(V)\n",
    "u_output.name = \"Eigenvector\"\n",
    "print( \"Number of converged eigenpairs %d\" % evs )\n",
    "if evs > 0:\n",
    "    with XDMFFile(MPI.COMM_WORLD, f\"eigenvectors_Nx{int(Nx)}.xdmf\", \"w\") as xdmf:\n",
    "        xdmf.write_mesh(mesh)\n",
    "        for i in range (min(N_eig, evs)):\n",
    "            l = eigensolver.getEigenpair(i, vr, vi)\n",
    "            freq = np.sqrt(l.real)/2/np.pi\n",
    "            print(f\"Mode {i}: {freq} Hz\")\n",
    "            u_output.x.array[:] = vr\n",
    "            xdmf.write_function(u_output, i)"
   ]
  },
  {
   "cell_type": "markdown",
   "id": "29f585bd",
   "metadata": {},
   "source": [
    "### Convert the natural frequencies to the dimensionless frequencies"
   ]
  },
  {
   "cell_type": "code",
   "execution_count": 14,
   "id": "fbcd2785",
   "metadata": {},
   "outputs": [],
   "source": [
    "freq_arr=np.array([156.8248030848762,282.5499553187332,352.700290459315,464.98129596969886,485.9148879625408,651.79825124868])\n",
    "D=E*L[2]**3 / (12*(1-nu**2))\n",
    "dimless_freq_arr=np.power( rho*L[2]*((freq_arr*2*np.pi)**2)/D , 1/4 )"
   ]
  },
  {
   "cell_type": "markdown",
   "id": "19fc94fa",
   "metadata": {},
   "source": [
    "### Compare FEA dimensionless frequencies to exact solution"
   ]
  },
  {
   "cell_type": "code",
   "execution_count": null,
   "id": "067779c8",
   "metadata": {},
   "outputs": [
    {
     "name": "stdout",
     "output_type": "stream",
     "text": [
      "FEA dimensionless frequencies=[ 5.67  7.61  8.5   9.76  9.97 11.55]\n",
      "exact dimensionless frequencies=[ 5.49  7.42  8.3   9.56  9.76 11.31]\n"
     ]
    }
   ],
   "source": [
    "exact_arr = np.array([5.49,7.42,8.30,9.56,9.76,11.31])\n",
    "print(f'FEA dimensionless frequencies={np.round(dimless_freq_arr,2)}')\n",
    "print(f'exact dimensionless frequencies={exact_arr}')"
   ]
  },
  {
   "cell_type": "markdown",
   "id": "abb61cdb",
   "metadata": {},
   "source": [
    "There are 2 main sources of errors:\n",
    "- Mesh too coarse: If we used a more refined mesh, we would get a closer result. For running this tutorial, we purposefully used a coarse mesh to demonstrate the code working.\n",
    "- Different element types: In the paper, the author uses the \"Bending Panel element\" from MSC Nastran for the FEA portion. Here, we're using a hexahedron element."
   ]
  }
 ],
 "metadata": {
  "kernelspec": {
   "display_name": "Python 3",
   "language": "python",
   "name": "python3"
  },
  "language_info": {
   "codemirror_mode": {
    "name": "ipython",
    "version": 3
   },
   "file_extension": ".py",
   "mimetype": "text/x-python",
   "name": "python",
   "nbconvert_exporter": "python",
   "pygments_lexer": "ipython3",
   "version": "3.13.2"
  }
 },
 "nbformat": 4,
 "nbformat_minor": 5
}
